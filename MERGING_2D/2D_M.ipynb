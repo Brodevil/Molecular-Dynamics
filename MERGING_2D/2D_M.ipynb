{
 "cells": [
  {
   "cell_type": "code",
   "execution_count": null,
   "id": "3ec99d3b",
   "metadata": {
    "id": "3ec99d3b"
   },
   "outputs": [],
   "source": [
    "import numpy as np\n",
    "import matplotlib.pyplot as plt\n",
    "import matplotlib.animation as animation"
   ]
  },
  {
   "cell_type": "code",
   "execution_count": null,
   "id": "Eqmzmw_Cw1I0",
   "metadata": {
    "id": "Eqmzmw_Cw1I0"
   },
   "outputs": [],
   "source": [
    "N = 100\n",
    "L = 10.0\n",
    "T = 1000\n",
    "dt = 0.05\n",
    "\n",
    "plt.rcParams['animation.embed_limit'] = 1000\n",
    "\n",
    "radius = np.full((N, 1), 0.1)\n",
    "pos = np.random.uniform(0, L, size=(N, 2))\n",
    "vel = np.random.uniform(-2, 2, size=(N, 2))\n",
    "mass = np.ones((N, 1))"
   ]
  },
  {
   "cell_type": "code",
   "execution_count": null,
   "id": "_ajbislFw46a",
   "metadata": {
    "id": "_ajbislFw46a"
   },
   "outputs": [],
   "source": [
    "def walls_reflect(pos, vel, L, x, y):\n",
    "    vel[x, 0] *= -1.0\n",
    "    pos[x, 0] = np.where(pos[x, 0] < 0, 0.0, np.where(pos[x, 0] > L, L, pos[x, 0]))\n",
    "\n",
    "    vel[y, 1] *= -1.0\n",
    "    pos[y, 1] = np.where(pos[y, 1] < 0, 0.0, np.where(pos[y, 1] > L, L, pos[y, 1]))"
   ]
  },
  {
   "cell_type": "code",
   "execution_count": null,
   "id": "YmcU1Yyyw-hL",
   "metadata": {
    "id": "YmcU1Yyyw-hL"
   },
   "outputs": [],
   "source": [
    "def step_once(pos,vel,dt,L):\n",
    "\n",
    "    pos = pos + vel * dt\n",
    "\n",
    "    x = (pos[:, 0] < 0) | (pos[:, 0] > L)\n",
    "    y = (pos[:, 1] < 0) | (pos[:, 1] > L)\n",
    "    walls_reflect(pos, vel, L, x, y)\n",
    "\n",
    "    return pos"
   ]
  },
  {
   "cell_type": "code",
   "execution_count": null,
   "id": "Zq-KDIelxGua",
   "metadata": {
    "id": "Zq-KDIelxGua"
   },
   "outputs": [],
   "source": [
    "def total_kinetic_energy(mass, vel):\n",
    "    v_2 = np.sum(vel**2, axis=1)\n",
    "    return 0.5 * np.sum(mass.flatten() * v_2)"
   ]
  },
  {
   "cell_type": "code",
   "execution_count": null,
   "id": "mdpjpb8QxRVC",
   "metadata": {
    "id": "mdpjpb8QxRVC"
   },
   "outputs": [],
   "source": [
    "def detect_collisions(pos, radius):\n",
    "    d = pos[None, :, :] - pos[:, None, :]\n",
    "    r = np.linalg.norm(d, axis=2)\n",
    "    R_sum = radius + radius.T\n",
    "    colliding = (r < R_sum) & (r > 1e-12)\n",
    "    pairs = np.array(np.where(colliding)).T\n",
    "    return pairs[pairs[:, 0] < pairs[:, 1]]"
   ]
  },
  {
   "cell_type": "code",
   "execution_count": null,
   "id": "gBNPEPYlxU6p",
   "metadata": {
    "id": "gBNPEPYlxU6p"
   },
   "outputs": [],
   "source": [
    "def merge_particles(pos, vel, mass, radius, i, j):\n",
    "\n",
    "    radius[i, 0] = np.sqrt(radius[i, 0]**2 + radius[j, 0]**2)\n",
    "    total_mass = mass[i, 0] + mass[j, 0]\n",
    "\n",
    "    vel[i] = (mass[i, 0]*vel[i] + mass[j, 0]*vel[j]) / total_mass\n",
    "    mass[i, 0] = total_mass\n",
    "    pos[i] = (pos[i] + pos[j]) / 2\n",
    "\n",
    "\n",
    "    pos = np.delete(pos, j, axis=0)\n",
    "    vel = np.delete(vel, j, axis=0)\n",
    "    mass = np.delete(mass, j, axis=0)\n",
    "    radius = np.delete(radius, j, axis=0)\n",
    "    return pos, vel, mass, radius"
   ]
  },
  {
   "cell_type": "code",
   "execution_count": null,
   "id": "aPOiv_6Txagp",
   "metadata": {
    "id": "aPOiv_6Txagp"
   },
   "outputs": [],
   "source": [
    "plt.close('all')\n",
    "fig, (ax, ax_energy) = plt.subplots(1, 2, figsize=(12, 5), dpi=150)\n",
    "plt.subplots_adjust(wspace=0.4)\n",
    "\n",
    "ax.set_xlim(0, L)\n",
    "ax.set_ylim(0, L)\n",
    "ax.set_xlabel('X')\n",
    "ax.set_ylabel('Y')\n",
    "ax.set_title('Particle positions (2D)')\n",
    "\n",
    "ax_energy.set_xlabel(\"Time (s)\")\n",
    "ax_energy.set_ylabel(\"Energy (J)\")\n",
    "ax_energy.set_title(\"Energy vs Time\")\n",
    "\n",
    "ke_line, = ax_energy.plot([], [], color='tab:red', label=\"KE\")\n",
    "ax_energy.legend(loc=\"upper left\", bbox_to_anchor=(1.02, 1))\n",
    "ke_times, ke_values = [], []\n",
    "\n",
    "scatter = ax.scatter(pos[:, 0], pos[:, 1], s=(radius.flatten() * 500) ** 2,\n",
    "                     c='tab:blue', alpha=0.8)\n",
    "\n",
    "def init():\n",
    "    scatter.set_offsets(pos)\n",
    "    ke_line.set_data([], [])\n",
    "    ke_times.clear()\n",
    "    ke_values.clear()\n",
    "    return scatter, ke_line\n",
    "\n",
    "def animate(frame):\n",
    "    global pos, vel, mass, radius\n",
    "\n",
    "    pos = step_once(pos, vel, dt)\n",
    "\n",
    "    while True:\n",
    "        pairs = detect_collisions(pos, radius)\n",
    "        if len(pairs) == 0:\n",
    "            break\n",
    "        i, j = pairs[0]\n",
    "        pos, vel, mass, radius = merge_particles(pos, vel, mass, radius, i, j)\n",
    "    scatter.set_offsets(pos)\n",
    "    scatter.set_sizes((radius.flatten() * 69) ** 2)\n",
    "    t = (frame + 1) * dt\n",
    "    KE = total_kinetic_energy(mass, vel)\n",
    "    ke_times.append(t)\n",
    "    ke_values.append(KE)\n",
    "    ke_line.set_data(ke_times, ke_values)\n",
    "\n",
    "    ax_energy.set_xlim(0, t + dt)\n",
    "    ax_energy.set_ylim(0, max(ke_values) * 1.2)\n",
    "\n",
    "    return scatter, ke_line\n",
    "\n",
    "anim = animation.FuncAnimation(fig, animate, init_func=init,\n",
    "                               frames=T, interval=10, blit=True)\n",
    "\n",
    "with open(\"Merging_3D.html\", \"w\") as f:\n",
    "    f.write(anim.to_jshtml())"
   ]
  }
 ],
 "metadata": {
  "colab": {
   "provenance": []
  },
  "kernelspec": {
   "display_name": "base",
   "language": "python",
   "name": "python3"
  },
  "language_info": {
   "codemirror_mode": {
    "name": "ipython",
    "version": 3
   },
   "file_extension": ".py",
   "mimetype": "text/x-python",
   "name": "python",
   "nbconvert_exporter": "python",
   "pygments_lexer": "ipython3",
   "version": "3.13.5"
  }
 },
 "nbformat": 4,
 "nbformat_minor": 5
}
